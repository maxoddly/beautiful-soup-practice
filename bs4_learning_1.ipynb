{
 "cells": [
  {
   "cell_type": "code",
   "execution_count": 1,
   "metadata": {},
   "outputs": [],
   "source": [
    "import bs4\n",
    "from urllib.request import urlopen as uReq\n",
    "from bs4 import BeautifulSoup as soup\n",
    "\n",
    "\n",
    "my_url = \"https://www.newegg.com/global/au-en/Memory-Cards/SubCategory/ID-68?Tid=203076\"\n",
    "#opening up connection, grabbing the page contents\n",
    "uClient = uReq(my_url)\n",
    "\n",
    "page_html  = uClient.read()\n",
    "uClient.close()\n",
    "\n",
    "page_soup = soup(page_html,\"html.parser\")"
   ]
  },
  {
   "cell_type": "code",
   "execution_count": 2,
   "metadata": {},
   "outputs": [
    {
     "data": {
      "text/plain": [
       "36"
      ]
     },
     "execution_count": 2,
     "metadata": {},
     "output_type": "execute_result"
    }
   ],
   "source": [
    "containers = page_soup.findAll(\"div\",{\"class\":\"item-container\"})\n",
    "len(containers)"
   ]
  },
  {
   "cell_type": "code",
   "execution_count": 9,
   "metadata": {},
   "outputs": [
    {
     "data": {
      "text/plain": [
       "'SanDisk'"
      ]
     },
     "execution_count": 9,
     "metadata": {},
     "output_type": "execute_result"
    }
   ],
   "source": [
    "container = containers[2]\n",
    "container.div.div.a.img[\"title\"]"
   ]
  },
  {
   "cell_type": "code",
   "execution_count": 10,
   "metadata": {},
   "outputs": [
    {
     "data": {
      "text/plain": [
       "'SanDisk 128GB Ultra microSDXC A1 UHS-I/U1 Class 10 Memory Card with Adapter, Speed Up to 100MB/s (SDSQUAR-128G-GN6MA)'"
      ]
     },
     "execution_count": 10,
     "metadata": {},
     "output_type": "execute_result"
    }
   ],
   "source": [
    "#print(container)\n",
    "title_container = container.findAll(\"a\",{\"class\":\"item-title\"})\n",
    "title_container[0].text"
   ]
  },
  {
   "cell_type": "code",
   "execution_count": 11,
   "metadata": {},
   "outputs": [
    {
     "data": {
      "text/plain": [
       "['AUD$31.90\\xa0–']"
      ]
     },
     "execution_count": 11,
     "metadata": {},
     "output_type": "execute_result"
    }
   ],
   "source": [
    "price_container = container.findAll(\"li\",{\"class\":\"price-current\"})\n",
    "\n",
    "price_container[0].text.split(\"x\")"
   ]
  },
  {
   "cell_type": "code",
   "execution_count": 18,
   "metadata": {},
   "outputs": [
    {
     "name": "stdout",
     "output_type": "stream",
     "text": [
      "brand:ADATA\n",
      "product_name:ADATA 32GB Premier microSDHC UHS-I / Class 10 V10 A1 Memory Card with SD Adapter| Speed Up to 100MB/s (AUSDH32GUICL10A1-RA1)\n",
      "price:AUD$8.80\n",
      "brand:SanDisk\n",
      "product_name:SanDisk 256GB Ultra microSDXC A1 UHS-I/U1 Class 10 Memory Card with Adapter| Speed Up to 100MB/s (SDSQUAR-256G-GN6MA)\n",
      "price:AUD$51.70\n",
      "brand:SanDisk\n",
      "product_name:SanDisk 128GB Ultra microSDXC A1 UHS-I/U1 Class 10 Memory Card with Adapter| Speed Up to 100MB/s (SDSQUAR-128G-GN6MA)\n",
      "price:AUD$31.90\n",
      "brand:ADATA\n",
      "product_name:ADATA 64GB Premier microSDXC UHS-I / Class 10 V10 A1 Memory Card with SD Adapter| Speed Up to 100MB/s (AUSDX64GUICL10A1-RA1)\n",
      "price:AUD$12.10\n",
      "brand:SanDisk\n",
      "product_name:SanDisk 256GB microSDXC UHS-I for Nintendo Switch| Speed Up to 100MB/s (SDSQXAO-256G-GNCZN)\n",
      "price:AUD$100.10\n",
      "brand:ADATA\n",
      "product_name:ADATA 256GB Premier microSDXC UHS-I / Class 10 V10 A1 Memory Card with SD Adapter| Speed Up to 100MB/s (AUSDX256GUICL10A1-RA1)\n",
      "price:AUD$42.90\n",
      "brand:G.SKILL\n",
      "product_name:G.Skill 32GB microSDHC UHS-I/U1 Class 10 Memory Card without Adapter (FF-TSDG32GN-C10)\n",
      "price:AUD$8.80\n",
      "brand:SAMSUNG\n",
      "product_name:SAMSUNG EVO 128GB microSDXC Flash Card + Adapter Model MB-MP128HA/AM\n",
      "price:AUD$30.80\n",
      "brand:SanDisk\n",
      "product_name:SanDisk 400GB Ultra microSDXC A1 UHS-I/U1 Class 10 Memory Card with Adapter| Speed Up to 120MB/s (SDSQUA4-400G-GN6MA)\n",
      "price:AUD$79.20\n",
      "brand:SAMSUNG\n",
      "product_name:SAMSUNG EVO 256GB microSDXC Flash Card + Adapter Model MB-MP256HA/AM\n",
      "price:AUD$51.70\n",
      "brand:SanDisk\n",
      "product_name:SanDisk 200GB Ultra microSDXC A1 UHS-I/U1 Class 10 Memory Card with Adapter| Speed Up to 100MB/s (SDSQUAR-200G-GN6MA)\n",
      "price:AUD$39.60\n",
      "brand:SanDisk\n",
      "product_name:SanDisk 128GB Extreme microSDXC UHS-I/U3 A2 Memory Card with Adapter| Speed Up to 160MB/s (SDSQXA1-128G-GN6MA)\n",
      "price:AUD$38.50\n",
      "brand:SanDisk\n",
      "product_name:SanDisk 256GB Extreme microSDXC UHS-I/U3 A2 Memory Card with Adapter| Speed Up to 160MB/s (SDSQXA1-256G-GN6MA)\n",
      "price:AUD$66.00\n",
      "brand:G.SKILL\n",
      "product_name:G.Skill 32GB microSDHC UHS-I/U1 Class 10 Memory Card with Adapter (FF-TSDG32GA-C10)\n",
      "price:AUD$9.90\n",
      "brand:SanDisk\n",
      "product_name:SanDisk 32GB Ultra microSDHC UHS-I / Class 10 Memory Card with Adapter| Speed Up to 80MB/s (SDSQUNC-032G-GN6MA)\n",
      "price:AUD$28.60\n",
      "brand:SanDisk\n",
      "product_name:SanDisk 512GB Ultra microSDXC A1 UHS-I/U1 Class 10 Memory Card with Adapter| Speed Up to 100MB/s (SDSQUAR-512G-GN6MA)\n",
      "price:AUD$117.70\n",
      "brand:SanDisk\n",
      "product_name:SanDisk 32GB High Endurance microSDHC C10| U3| V30| 4k UHD Memory Card with Adapter (SDSQQNR-032G-GN6IA)\n",
      "price:AUD$16.50\n",
      "brand:G.SKILL\n",
      "product_name:G.Skill 64GB microSDXC UHS-I/U1 Class 10 Memory Card with Adapter (FF-TSDXC64GA-U1)\n",
      "price:AUD$15.40\n",
      "brand:G.SKILL\n",
      "product_name:G.Skill 128GB microSDXC UHS-I/U1 Class 10 Memory Card with Adapter (FF-TSDXC128GA-U1A)\n",
      "price:AUD$27.50\n",
      "brand:SanDisk\n",
      "product_name:SanDisk 512GB Extreme microSDXC UHS-I/U3 A2 Memory Card with Adapter| Speed Up to 160MB/s (SDSQXA1-512G-GN6MA)\n",
      "price:AUD$160.60\n",
      "brand:SanDisk\n",
      "product_name:SanDisk 400GB Extreme microSDXC UHS-I/U3 A2 Memory Card with Adapter| Speed Up to 160MB/s (SDSQXA1-400G-GN6MA)\n",
      "price:AUD$106.70\n",
      "brand:SanDisk\n",
      "product_name:SanDisk 64GB Extreme microSDXC UHS-I/U3 A2 Memory Card with Adapter| Speed Up to 160MB/s (SDSQXA2-064G-GN6MA)\n",
      "price:AUD$22.00\n",
      "brand:Team Group\n",
      "product_name:Team Group 64GB Classic SD Card U1 V10 C10 Card Read/Write Speed Up to 80/15MB/s (TSDXC64GIV1001)\n",
      "price:AUD$13.20\n",
      "brand:SanDisk\n",
      "product_name:SanDisk 64GB Ultra microSDXC A1 UHS-I/U1 Class 10 Memory Card with Adapter| Speed Up to 100MB/s (SDSQUAR-064G-GN6MA)\n",
      "price:AUD$20.90\n",
      "brand:SanDisk\n",
      "product_name:SanDisk 64GB High Endurance microSDHC C10| U3| V30| 4k UHD Memory Card with Adapter (SDSQQNR-064G-GN6IA)\n",
      "price:AUD$23.10\n",
      "brand:Silicon Power\n",
      "product_name:Silicon Power Elite 256GB microSDXC Flash Card with Adapter Model SU256GBSTXBV1V20AB\n",
      "price:AUD$37.40\n",
      "brand:SanDisk\n",
      "product_name:SanDisk 512GB microSDXC UHS-I for Nintendo Switch| Speed Up to 100MB/s (SDSQXAO-512G-GNCZN)\n",
      "price:AUD$198.00\n",
      "brand:ADATA\n",
      "product_name:ADATA 16GB Premier microSDHC UHS-I / Class 10 V10 A1 Memory Card with SD Adapter| Speed Up to 100MB/s (AUSDH16GUICL10A1-RA1)\n",
      "price:AUD$7.70\n",
      "brand:Team Group\n",
      "product_name:Team 128GB Color II microSDXC UHS-I/U3 Class 10 Memory Card with Adapter| Speed Up to 90MB/s (TCIIUSXH128GU352)\n",
      "price:AUD$26.40\n",
      "brand:Patriot Memory\n",
      "product_name:Patriot EP Series 512GB microSDXC Flash Card Model PEF512GEP31MCX\n",
      "price:AUD$116.60\n",
      "brand:SanDisk\n",
      "product_name:SanDisk 512GB Ultra microSDXC A1 UHS-I/U1 Class 10 Memory Card with Adapter| Speed Up to 120MB/s (SDSQUA4-512G-GN6MA)\n",
      "price:AUD$122.10\n",
      "brand:SanDisk\n",
      "product_name:SanDisk 128GB Extreme SDXC UHS-I/U3 Class 10 V 30 Memory Card| Speed Up to 150MB/s (SDSDXV5-128G-GNCIN)\n",
      "price:AUD$44.00\n",
      "brand:G.SKILL\n",
      "product_name:G.Skill 16GB microSDHC UHS-I/U1 Class 10 Memory Card with Adapter (FF-TSDG16GA-C10)\n",
      "price:AUD$8.80\n",
      "brand:Silicon Power\n",
      "product_name:Silicon Power 512GB Superior Pro microSDXC UHS-I (U3)| V30 4K A1| High Speed MicroSD Card with Adapter\n",
      "price:AUD$102.30\n",
      "brand:SanDisk\n",
      "product_name:SanDisk Extreme Pro 512GB SDXC UHS-I/U3 V30 Memory Card| Speed Up to 170MB/s (SDSDXXY-512G-GN4IN)\n",
      "price:AUD$228.80\n",
      "brand:SanDisk\n",
      "product_name:SanDisk 256GB Ultra SDXC UHS-I/Class 10 Memory Card| Speed Up to 100MB/s (SDSDUNR-256G-GN6IN)\n",
      "price:AUD$63.80\n"
     ]
    }
   ],
   "source": [
    "filename = \"products_sample.csv\"\n",
    "f = open(filename, \"w\")\n",
    "headers = \"brand, product_name,price\"+\"\\n\"\n",
    "f.write(\"brand\" + \",\" + \"product_name\" + \",\" + \"price\" + \"\\n\")\n",
    "for container in  containers:\n",
    "    brand = container.div.div.a.img[\"title\"]\n",
    "    \n",
    "    title_container = container.findAll(\"a\",{\"class\":\"item-title\"})\n",
    "    title = title_container[0].text\n",
    "    product_name = title.replace(\",\",\"|\")\n",
    "    \n",
    "    price_container = container.findAll(\"li\",{\"class\":\"price-current\"})\n",
    "    price = (price_container[0].text.split(\"(\")[0]).split()[0]\n",
    "    \n",
    "    \n",
    "    print(\"brand:\"+ brand)\n",
    "    print(\"product_name:\"+ product_name)\n",
    "    print(\"price:\"+ price)\n",
    "    \n",
    "    f.write(brand + \",\" + product_name + \",\" + price + \"\\n\")\n",
    "    \n",
    "f.close()"
   ]
  },
  {
   "cell_type": "code",
   "execution_count": 17,
   "metadata": {},
   "outputs": [
    {
     "data": {
      "text/plain": [
       "<_io.BufferedReader name='products_sample.csv'>"
      ]
     },
     "execution_count": 17,
     "metadata": {},
     "output_type": "execute_result"
    }
   ],
   "source": [
    "filename = \"products_sample.csv\"\n",
    "f = open(filename, \"rb\")\n",
    "f"
   ]
  },
  {
   "cell_type": "code",
   "execution_count": null,
   "metadata": {},
   "outputs": [],
   "source": []
  }
 ],
 "metadata": {
  "kernelspec": {
   "display_name": "Python 3",
   "language": "python",
   "name": "python3"
  },
  "language_info": {
   "codemirror_mode": {
    "name": "ipython",
    "version": 3
   },
   "file_extension": ".py",
   "mimetype": "text/x-python",
   "name": "python",
   "nbconvert_exporter": "python",
   "pygments_lexer": "ipython3",
   "version": "3.7.6"
  }
 },
 "nbformat": 4,
 "nbformat_minor": 4
}
